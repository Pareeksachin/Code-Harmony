{
 "cells": [
  {
   "cell_type": "markdown",
   "id": "364a7a44",
   "metadata": {},
   "source": [
    "# 1. Reverse A String"
   ]
  },
  {
   "cell_type": "code",
   "execution_count": 1,
   "id": "2fe0bb4c",
   "metadata": {},
   "outputs": [
    {
     "name": "stdout",
     "output_type": "stream",
     "text": [
      "Sachin\n",
      "nihcaS\n"
     ]
    }
   ],
   "source": [
    "string = input()\n",
    "reversed_str = string[::-1]\n",
    "print(reversed_str)"
   ]
  },
  {
   "cell_type": "markdown",
   "id": "b920c8a9",
   "metadata": {},
   "source": [
    "# 2. checking if a string contains a substring"
   ]
  },
  {
   "cell_type": "code",
   "execution_count": 2,
   "id": "1027b5ac",
   "metadata": {},
   "outputs": [
    {
     "name": "stdout",
     "output_type": "stream",
     "text": [
      "sachin\n",
      "in\n",
      " Substring Found\n"
     ]
    }
   ],
   "source": [
    "string = input()\n",
    "substring = input()\n",
    "if substring in string:\n",
    "    print(\" Substring Found\")"
   ]
  },
  {
   "cell_type": "markdown",
   "id": "628df7dd",
   "metadata": {},
   "source": [
    "# 3. Find the maximum value & index of that value in a list "
   ]
  },
  {
   "cell_type": "code",
   "execution_count": 3,
   "id": "819e41c1",
   "metadata": {},
   "outputs": [
    {
     "name": "stdout",
     "output_type": "stream",
     "text": [
      "Max value :  9\n",
      "Index of max value :  3\n"
     ]
    }
   ],
   "source": [
    "my_list = [1,5,3,9,1]\n",
    "max_value = max(my_list)\n",
    "print(\"Max value : \",max_value)\n",
    "max_value_index = my_list.index(max(my_list))\n",
    "print(\"Index of max value : \",max_value_index)"
   ]
  },
  {
   "cell_type": "markdown",
   "id": "f3f15d0e",
   "metadata": {},
   "source": [
    "# 4. Reversing a list "
   ]
  },
  {
   "cell_type": "code",
   "execution_count": 4,
   "id": "ab793b96",
   "metadata": {},
   "outputs": [
    {
     "name": "stdout",
     "output_type": "stream",
     "text": [
      "[1, 9, 3, 5, 1]\n"
     ]
    }
   ],
   "source": [
    "my_list = [1,5,3,9,1]\n",
    "reverse_list = my_list[::-1]\n",
    "print(reverse_list)"
   ]
  },
  {
   "cell_type": "markdown",
   "id": "ca5f21c1",
   "metadata": {},
   "source": [
    "# 5. Removing Duplicates from a list "
   ]
  },
  {
   "cell_type": "code",
   "execution_count": 5,
   "id": "f4fc5e0c",
   "metadata": {},
   "outputs": [
    {
     "name": "stdout",
     "output_type": "stream",
     "text": [
      "[1, 2, 3, 4, 6, 8]\n"
     ]
    }
   ],
   "source": [
    "my_list = [1,2,4,2,1,6,8,3]\n",
    "new_list = list(set(my_list))\n",
    "print(new_list)"
   ]
  },
  {
   "cell_type": "markdown",
   "id": "84806633",
   "metadata": {},
   "source": [
    "# 6. Checking if a list is empty\n"
   ]
  },
  {
   "cell_type": "code",
   "execution_count": 6,
   "id": "58c79494",
   "metadata": {},
   "outputs": [
    {
     "name": "stdout",
     "output_type": "stream",
     "text": [
      "list is empty\n"
     ]
    }
   ],
   "source": [
    "my_list = []\n",
    "if not my_list:\n",
    "    print(\"list is empty\")"
   ]
  },
  {
   "cell_type": "markdown",
   "id": "9d78a50e",
   "metadata": {},
   "source": [
    "# 7. Converting a string to a list"
   ]
  },
  {
   "cell_type": "code",
   "execution_count": 7,
   "id": "5dfd2be4",
   "metadata": {},
   "outputs": [
    {
     "name": "stdout",
     "output_type": "stream",
     "text": [
      "['S', 'a', 'c', 'h', 'i', 'n', ' ', 'P', 'a', 'r', 'e', 'e', 'k']\n"
     ]
    }
   ],
   "source": [
    "string = \"Sachin Pareek\"\n",
    "my_list = list(string)\n",
    "print(my_list)"
   ]
  },
  {
   "cell_type": "markdown",
   "id": "415c2788",
   "metadata": {},
   "source": [
    "# 8. sorting a dictionary by value"
   ]
  },
  {
   "cell_type": "code",
   "execution_count": 8,
   "id": "1048365b",
   "metadata": {},
   "outputs": [
    {
     "name": "stdout",
     "output_type": "stream",
     "text": [
      "{'banana': 1, 'orange': 2, 'apple': 3}\n"
     ]
    }
   ],
   "source": [
    "my_dict = {\"apple\":3,\"banana\":1,\"orange\":2}\n",
    "sorted_dict = {k : v for k,v in sorted(my_dict.items(),key=lambda item:item[1])}\n",
    "print(sorted_dict)"
   ]
  },
  {
   "cell_type": "markdown",
   "id": "7eb3d020",
   "metadata": {},
   "source": [
    "# 9 . Check if a file is exists or not"
   ]
  },
  {
   "cell_type": "code",
   "execution_count": 9,
   "id": "e71f9692",
   "metadata": {},
   "outputs": [],
   "source": [
    "import os \n",
    "if os.path.isfile('file.txt'):\n",
    "    print(\"file exists!\")"
   ]
  },
  {
   "cell_type": "markdown",
   "id": "b81c5653",
   "metadata": {},
   "source": [
    "# 10. Counting occurrences of an item in a list"
   ]
  },
  {
   "cell_type": "code",
   "execution_count": 10,
   "id": "cffe3a6e",
   "metadata": {},
   "outputs": [
    {
     "name": "stdout",
     "output_type": "stream",
     "text": [
      "3\n"
     ]
    }
   ],
   "source": [
    "my_list = [1,2,3,4,1,2,1,3,5]\n",
    "count = my_list.count(1)\n",
    "print(count)"
   ]
  },
  {
   "cell_type": "markdown",
   "id": "1afa6b6c",
   "metadata": {},
   "source": [
    "# 11. Checking if all elements in a list are unique "
   ]
  },
  {
   "cell_type": "code",
   "execution_count": 11,
   "id": "27baef3f",
   "metadata": {},
   "outputs": [
    {
     "name": "stdout",
     "output_type": "stream",
     "text": [
      "all elements are unique\n"
     ]
    }
   ],
   "source": [
    "my_list = [1,2,3,4]\n",
    "if len(my_list)==len(set(my_list)):\n",
    "    print(\"all elements are unique\")"
   ]
  },
  {
   "cell_type": "markdown",
   "id": "7ea564f1",
   "metadata": {},
   "source": [
    "# 12. Removing All occurrences of an item from a list"
   ]
  },
  {
   "cell_type": "code",
   "execution_count": 12,
   "id": "f0ae3dc2",
   "metadata": {},
   "outputs": [
    {
     "name": "stdout",
     "output_type": "stream",
     "text": [
      "[1, 3, 1, 4, 5, 4]\n"
     ]
    }
   ],
   "source": [
    "my_list = [1,2,3,2,1,4,5,4]\n",
    "item = 2\n",
    "my_list = [x for x in my_list if x!= item]\n",
    "print(my_list)"
   ]
  },
  {
   "cell_type": "markdown",
   "id": "ce74ee7e",
   "metadata": {},
   "source": [
    "# 13. Flatting a nested list "
   ]
  },
  {
   "cell_type": "code",
   "execution_count": 13,
   "id": "8b1d5090",
   "metadata": {},
   "outputs": [
    {
     "name": "stdout",
     "output_type": "stream",
     "text": [
      "[1, 2, 3, 4, 5, 6]\n"
     ]
    }
   ],
   "source": [
    "my_list = [[1,2],[3,4],[5,6]]\n",
    "flattened_list = [x for sublist in my_list for x in sublist]\n",
    "print(flattened_list)"
   ]
  },
  {
   "cell_type": "markdown",
   "id": "a0a992d8",
   "metadata": {},
   "source": [
    "# 14. Merging two dictionaries"
   ]
  },
  {
   "cell_type": "code",
   "execution_count": 14,
   "id": "49923ce2",
   "metadata": {},
   "outputs": [
    {
     "name": "stdout",
     "output_type": "stream",
     "text": [
      "{'Apple': 3, 'banana': 1, 'Orange': 2, 'pear': 4}\n"
     ]
    }
   ],
   "source": [
    "dict1 ={'Apple':3,\"banana\":1}\n",
    "dict2 ={\"Orange\":2,'pear':4}\n",
    "merged_dict = {**dict1,**dict2}\n",
    "print(merged_dict)\n"
   ]
  },
  {
   "cell_type": "markdown",
   "id": "d4039bb6",
   "metadata": {},
   "source": [
    "{**dict1, **dict2}: This syntax uses the double asterisks ** to unpack the key-value pairs from dictionaries dict1 and dict2 and combine them into a single dictionary.\n",
    "\n",
    "dict1: The key-value pairs from dict1 are unpacked into the new dictionary.\n",
    "\n",
    "dict2: Then, the key-value pairs from dict2 are unpacked into the same new dictionary.\n",
    "\n",
    "Duplicate keys: If there are duplicate keys between dict1 and dict2, the values from dict2 will overwrite the values from dict1."
   ]
  },
  {
   "cell_type": "markdown",
   "id": "b241f444",
   "metadata": {},
   "source": [
    "# 15. Removing all whitespaces from a string"
   ]
  },
  {
   "cell_type": "code",
   "execution_count": 15,
   "id": "691b4344",
   "metadata": {},
   "outputs": [
    {
     "name": "stdout",
     "output_type": "stream",
     "text": [
      "sachinpareek\n"
     ]
    }
   ],
   "source": [
    "string = \"sachin   pareek \"\n",
    "new_string = \"\".join(string.split())\n",
    "print(new_string)"
   ]
  },
  {
   "cell_type": "markdown",
   "id": "3040f3f7",
   "metadata": {},
   "source": [
    "# 16. Checking a string is palindrom or not"
   ]
  },
  {
   "cell_type": "code",
   "execution_count": 16,
   "id": "359905da",
   "metadata": {},
   "outputs": [
    {
     "name": "stdout",
     "output_type": "stream",
     "text": [
      "string is palindrom\n"
     ]
    }
   ],
   "source": [
    "string = \"racecar\"\n",
    "if string == string[::-1]:\n",
    "    print(\"string is palindrom\")\n",
    "else:\n",
    "    print(\"not palindrom\")"
   ]
  },
  {
   "cell_type": "markdown",
   "id": "fc0cb2e9",
   "metadata": {},
   "source": [
    "# 17. Removing duplicates from a string"
   ]
  },
  {
   "cell_type": "code",
   "execution_count": 17,
   "id": "b17181d1",
   "metadata": {},
   "outputs": [
    {
     "name": "stdout",
     "output_type": "stream",
     "text": [
      "{'p', 'k', 'r', 'h', 'a', 's', 'e', 'c', 'n', ' ', 'i'}\n",
      "pkrhasecn i\n"
     ]
    }
   ],
   "source": [
    "string = \"sachin pareek\"\n",
    "print(set(string))\n",
    "new_string = \"\".join(set(string))\n",
    "print(new_string)"
   ]
  },
  {
   "cell_type": "markdown",
   "id": "03d0b3cf",
   "metadata": {},
   "source": [
    "# 18. counting number of words in a string"
   ]
  },
  {
   "cell_type": "code",
   "execution_count": 18,
   "id": "552fa432",
   "metadata": {},
   "outputs": [
    {
     "name": "stdout",
     "output_type": "stream",
     "text": [
      "6\n"
     ]
    }
   ],
   "source": [
    "string = \"sachin pareek is a good boy\"\n",
    "word_count = len(string.split())\n",
    "print(word_count)"
   ]
  },
  {
   "cell_type": "markdown",
   "id": "917fce23",
   "metadata": {},
   "source": [
    "# 19. Generating a random integer"
   ]
  },
  {
   "cell_type": "code",
   "execution_count": 19,
   "id": "5c16e829",
   "metadata": {},
   "outputs": [
    {
     "name": "stdout",
     "output_type": "stream",
     "text": [
      "2\n"
     ]
    }
   ],
   "source": [
    "import random\n",
    "random_number = random.randint(1,10)\n",
    "print(random_number)"
   ]
  },
  {
   "cell_type": "code",
   "execution_count": null,
   "id": "24983c7a",
   "metadata": {},
   "outputs": [],
   "source": []
  }
 ],
 "metadata": {
  "kernelspec": {
   "display_name": "Python 3 (ipykernel)",
   "language": "python",
   "name": "python3"
  },
  "language_info": {
   "codemirror_mode": {
    "name": "ipython",
    "version": 3
   },
   "file_extension": ".py",
   "mimetype": "text/x-python",
   "name": "python",
   "nbconvert_exporter": "python",
   "pygments_lexer": "ipython3",
   "version": "3.11.3"
  }
 },
 "nbformat": 4,
 "nbformat_minor": 5
}
